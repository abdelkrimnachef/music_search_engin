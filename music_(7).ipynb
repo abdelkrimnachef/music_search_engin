{
  "cells": [
    {
      "cell_type": "code",
      "execution_count": 1,
      "metadata": {
        "colab": {
          "base_uri": "https://localhost:8080/"
        },
        "id": "cellular-warrant",
        "outputId": "bd9dd0fa-a196-4144-8295-beb9658caf94"
      },
      "outputs": [
        {
          "output_type": "stream",
          "name": "stdout",
          "text": [
            "Mounted at /content/drive\n"
          ]
        }
      ],
      "source": [
        "import pandas as pd\n",
        "import numpy as np\n",
        "from google.colab import drive\n",
        "drive.mount('/content/drive')"
      ],
      "id": "cellular-warrant"
    },
    {
      "cell_type": "code",
      "execution_count": 2,
      "metadata": {
        "colab": {
          "base_uri": "https://localhost:8080/",
          "height": 424
        },
        "id": "approximate-rogers",
        "outputId": "a50f99af-67f1-4e24-bf3a-1f83f2b0ac5b"
      },
      "outputs": [
        {
          "output_type": "execute_result",
          "data": {
            "text/plain": [
              "                artist_name                     track_name  \\\n",
              "0                    mukesh           mohabbat bhi jhoothi   \n",
              "1             frankie laine                      i believe   \n",
              "2               johnnie ray                            cry   \n",
              "3               pérez prado                       patricia   \n",
              "4      giorgos papadopoulos             apopse eida oneiro   \n",
              "...                     ...                            ...   \n",
              "28367               mack 10                10 million ways   \n",
              "28368                m.o.p.  ante up (robbin hoodz theory)   \n",
              "28369                  nine                  whutcha want?   \n",
              "28370            will smith                         switch   \n",
              "28371                 jeezy                         r.i.p.   \n",
              "\n",
              "                                                  lyrics  \n",
              "0      hold time feel break feel untrue convince spea...  \n",
              "1      believe drop rain fall grow believe darkest ni...  \n",
              "2      sweetheart send letter goodbye secret feel bet...  \n",
              "3      kiss lips want stroll charm mambo chacha merin...  \n",
              "4      till darling till matter know till dream live ...  \n",
              "...                                                  ...  \n",
              "28367  cause fuck leave scar tick tock clock come kno...  \n",
              "28368  minks things chain ring braclets yap fame come...  \n",
              "28369  get ban get ban stick crack relax plan attack ...  \n",
              "28370  check check yeah yeah hear thing call switch g...  \n",
              "28371  remix killer alive remix thriller trap bitch s...  \n",
              "\n",
              "[28372 rows x 3 columns]"
            ],
            "text/html": [
              "\n",
              "  <div id=\"df-57e25d79-d48b-474f-b382-b9acb1c5c91b\">\n",
              "    <div class=\"colab-df-container\">\n",
              "      <div>\n",
              "<style scoped>\n",
              "    .dataframe tbody tr th:only-of-type {\n",
              "        vertical-align: middle;\n",
              "    }\n",
              "\n",
              "    .dataframe tbody tr th {\n",
              "        vertical-align: top;\n",
              "    }\n",
              "\n",
              "    .dataframe thead th {\n",
              "        text-align: right;\n",
              "    }\n",
              "</style>\n",
              "<table border=\"1\" class=\"dataframe\">\n",
              "  <thead>\n",
              "    <tr style=\"text-align: right;\">\n",
              "      <th></th>\n",
              "      <th>artist_name</th>\n",
              "      <th>track_name</th>\n",
              "      <th>lyrics</th>\n",
              "    </tr>\n",
              "  </thead>\n",
              "  <tbody>\n",
              "    <tr>\n",
              "      <th>0</th>\n",
              "      <td>mukesh</td>\n",
              "      <td>mohabbat bhi jhoothi</td>\n",
              "      <td>hold time feel break feel untrue convince spea...</td>\n",
              "    </tr>\n",
              "    <tr>\n",
              "      <th>1</th>\n",
              "      <td>frankie laine</td>\n",
              "      <td>i believe</td>\n",
              "      <td>believe drop rain fall grow believe darkest ni...</td>\n",
              "    </tr>\n",
              "    <tr>\n",
              "      <th>2</th>\n",
              "      <td>johnnie ray</td>\n",
              "      <td>cry</td>\n",
              "      <td>sweetheart send letter goodbye secret feel bet...</td>\n",
              "    </tr>\n",
              "    <tr>\n",
              "      <th>3</th>\n",
              "      <td>pérez prado</td>\n",
              "      <td>patricia</td>\n",
              "      <td>kiss lips want stroll charm mambo chacha merin...</td>\n",
              "    </tr>\n",
              "    <tr>\n",
              "      <th>4</th>\n",
              "      <td>giorgos papadopoulos</td>\n",
              "      <td>apopse eida oneiro</td>\n",
              "      <td>till darling till matter know till dream live ...</td>\n",
              "    </tr>\n",
              "    <tr>\n",
              "      <th>...</th>\n",
              "      <td>...</td>\n",
              "      <td>...</td>\n",
              "      <td>...</td>\n",
              "    </tr>\n",
              "    <tr>\n",
              "      <th>28367</th>\n",
              "      <td>mack 10</td>\n",
              "      <td>10 million ways</td>\n",
              "      <td>cause fuck leave scar tick tock clock come kno...</td>\n",
              "    </tr>\n",
              "    <tr>\n",
              "      <th>28368</th>\n",
              "      <td>m.o.p.</td>\n",
              "      <td>ante up (robbin hoodz theory)</td>\n",
              "      <td>minks things chain ring braclets yap fame come...</td>\n",
              "    </tr>\n",
              "    <tr>\n",
              "      <th>28369</th>\n",
              "      <td>nine</td>\n",
              "      <td>whutcha want?</td>\n",
              "      <td>get ban get ban stick crack relax plan attack ...</td>\n",
              "    </tr>\n",
              "    <tr>\n",
              "      <th>28370</th>\n",
              "      <td>will smith</td>\n",
              "      <td>switch</td>\n",
              "      <td>check check yeah yeah hear thing call switch g...</td>\n",
              "    </tr>\n",
              "    <tr>\n",
              "      <th>28371</th>\n",
              "      <td>jeezy</td>\n",
              "      <td>r.i.p.</td>\n",
              "      <td>remix killer alive remix thriller trap bitch s...</td>\n",
              "    </tr>\n",
              "  </tbody>\n",
              "</table>\n",
              "<p>28372 rows × 3 columns</p>\n",
              "</div>\n",
              "      <button class=\"colab-df-convert\" onclick=\"convertToInteractive('df-57e25d79-d48b-474f-b382-b9acb1c5c91b')\"\n",
              "              title=\"Convert this dataframe to an interactive table.\"\n",
              "              style=\"display:none;\">\n",
              "        \n",
              "  <svg xmlns=\"http://www.w3.org/2000/svg\" height=\"24px\"viewBox=\"0 0 24 24\"\n",
              "       width=\"24px\">\n",
              "    <path d=\"M0 0h24v24H0V0z\" fill=\"none\"/>\n",
              "    <path d=\"M18.56 5.44l.94 2.06.94-2.06 2.06-.94-2.06-.94-.94-2.06-.94 2.06-2.06.94zm-11 1L8.5 8.5l.94-2.06 2.06-.94-2.06-.94L8.5 2.5l-.94 2.06-2.06.94zm10 10l.94 2.06.94-2.06 2.06-.94-2.06-.94-.94-2.06-.94 2.06-2.06.94z\"/><path d=\"M17.41 7.96l-1.37-1.37c-.4-.4-.92-.59-1.43-.59-.52 0-1.04.2-1.43.59L10.3 9.45l-7.72 7.72c-.78.78-.78 2.05 0 2.83L4 21.41c.39.39.9.59 1.41.59.51 0 1.02-.2 1.41-.59l7.78-7.78 2.81-2.81c.8-.78.8-2.07 0-2.86zM5.41 20L4 18.59l7.72-7.72 1.47 1.35L5.41 20z\"/>\n",
              "  </svg>\n",
              "      </button>\n",
              "      \n",
              "  <style>\n",
              "    .colab-df-container {\n",
              "      display:flex;\n",
              "      flex-wrap:wrap;\n",
              "      gap: 12px;\n",
              "    }\n",
              "\n",
              "    .colab-df-convert {\n",
              "      background-color: #E8F0FE;\n",
              "      border: none;\n",
              "      border-radius: 50%;\n",
              "      cursor: pointer;\n",
              "      display: none;\n",
              "      fill: #1967D2;\n",
              "      height: 32px;\n",
              "      padding: 0 0 0 0;\n",
              "      width: 32px;\n",
              "    }\n",
              "\n",
              "    .colab-df-convert:hover {\n",
              "      background-color: #E2EBFA;\n",
              "      box-shadow: 0px 1px 2px rgba(60, 64, 67, 0.3), 0px 1px 3px 1px rgba(60, 64, 67, 0.15);\n",
              "      fill: #174EA6;\n",
              "    }\n",
              "\n",
              "    [theme=dark] .colab-df-convert {\n",
              "      background-color: #3B4455;\n",
              "      fill: #D2E3FC;\n",
              "    }\n",
              "\n",
              "    [theme=dark] .colab-df-convert:hover {\n",
              "      background-color: #434B5C;\n",
              "      box-shadow: 0px 1px 3px 1px rgba(0, 0, 0, 0.15);\n",
              "      filter: drop-shadow(0px 1px 2px rgba(0, 0, 0, 0.3));\n",
              "      fill: #FFFFFF;\n",
              "    }\n",
              "  </style>\n",
              "\n",
              "      <script>\n",
              "        const buttonEl =\n",
              "          document.querySelector('#df-57e25d79-d48b-474f-b382-b9acb1c5c91b button.colab-df-convert');\n",
              "        buttonEl.style.display =\n",
              "          google.colab.kernel.accessAllowed ? 'block' : 'none';\n",
              "\n",
              "        async function convertToInteractive(key) {\n",
              "          const element = document.querySelector('#df-57e25d79-d48b-474f-b382-b9acb1c5c91b');\n",
              "          const dataTable =\n",
              "            await google.colab.kernel.invokeFunction('convertToInteractive',\n",
              "                                                     [key], {});\n",
              "          if (!dataTable) return;\n",
              "\n",
              "          const docLinkHtml = 'Like what you see? Visit the ' +\n",
              "            '<a target=\"_blank\" href=https://colab.research.google.com/notebooks/data_table.ipynb>data table notebook</a>'\n",
              "            + ' to learn more about interactive tables.';\n",
              "          element.innerHTML = '';\n",
              "          dataTable['output_type'] = 'display_data';\n",
              "          await google.colab.output.renderOutput(dataTable, element);\n",
              "          const docLink = document.createElement('div');\n",
              "          docLink.innerHTML = docLinkHtml;\n",
              "          element.appendChild(docLink);\n",
              "        }\n",
              "      </script>\n",
              "    </div>\n",
              "  </div>\n",
              "  "
            ]
          },
          "metadata": {},
          "execution_count": 2
        }
      ],
      "source": [
        "# read CSV file\n",
        "df= pd.read_csv(\"/content/drive/MyDrive/Colab_Notebooks/dataset/music.csv\" ,)  #to dataframe\n",
        "data=[df['artist_name'],df['track_name'],df['lyrics']]\n",
        "headers = [\"artist_name\", \"track_name\",\"lyrics\"]\n",
        "dfp = pd.concat(data, axis=1, keys=headers)\n",
        "dfp1= dfp\n",
        "dfp"
      ],
      "id": "approximate-rogers"
    },
    {
      "cell_type": "code",
      "execution_count": 3,
      "metadata": {
        "id": "green-friend"
      },
      "outputs": [],
      "source": [
        "liste = dfp[\"lyrics\"].apply (lambda r: r.split()) "
      ],
      "id": "green-friend"
    },
    {
      "cell_type": "code",
      "execution_count": 4,
      "metadata": {
        "colab": {
          "base_uri": "https://localhost:8080/"
        },
        "id": "UUiS5wQR2abm",
        "outputId": "052c2a21-c85e-44ae-9400-a7418154efee"
      },
      "outputs": [
        {
          "output_type": "execute_result",
          "data": {
            "text/plain": [
              "0        [hold, time, feel, break, feel, untrue, convin...\n",
              "1        [believe, drop, rain, fall, grow, believe, dar...\n",
              "2        [sweetheart, send, letter, goodbye, secret, fe...\n",
              "3        [kiss, lips, want, stroll, charm, mambo, chach...\n",
              "4        [till, darling, till, matter, know, till, drea...\n",
              "                               ...                        \n",
              "28367    [cause, fuck, leave, scar, tick, tock, clock, ...\n",
              "28368    [minks, things, chain, ring, braclets, yap, fa...\n",
              "28369    [get, ban, get, ban, stick, crack, relax, plan...\n",
              "28370    [check, check, yeah, yeah, hear, thing, call, ...\n",
              "28371    [remix, killer, alive, remix, thriller, trap, ...\n",
              "Name: lyrics, Length: 28372, dtype: object"
            ]
          },
          "metadata": {},
          "execution_count": 4
        }
      ],
      "source": [
        "liste"
      ],
      "id": "UUiS5wQR2abm"
    },
    {
      "cell_type": "code",
      "execution_count": 5,
      "metadata": {
        "id": "collective-genealogy"
      },
      "outputs": [],
      "source": [
        "import nltk\n",
        "from nltk.tokenize import sent_tokenize, word_tokenize"
      ],
      "id": "collective-genealogy"
    },
    {
      "cell_type": "code",
      "execution_count": 6,
      "metadata": {
        "colab": {
          "base_uri": "https://localhost:8080/"
        },
        "id": "revolutionary-double",
        "outputId": "bb2f792b-dd1c-44f3-f1a9-50d862be726d"
      },
      "outputs": [
        {
          "output_type": "stream",
          "name": "stdout",
          "text": [
            "!\"#$%&'()*+,-./:;<=>?@[\\]^_`{|}~\n"
          ]
        }
      ],
      "source": [
        "import string\n",
        "print(string.punctuation)"
      ],
      "id": "revolutionary-double"
    },
    {
      "cell_type": "markdown",
      "metadata": {
        "id": "superior-durham"
      },
      "source": [
        ""
      ],
      "id": "superior-durham"
    },
    {
      "cell_type": "code",
      "execution_count": 7,
      "metadata": {
        "id": "lucky-clone"
      },
      "outputs": [],
      "source": [
        "#fonction to eliminate punctuation\n",
        "def eliminater(x):\n",
        "    y =\"\".join([r for r in x if r not in string.punctuation])\n",
        "    return y"
      ],
      "id": "lucky-clone"
    },
    {
      "cell_type": "code",
      "execution_count": 8,
      "metadata": {
        "colab": {
          "base_uri": "https://localhost:8080/",
          "height": 424
        },
        "id": "relative-belarus",
        "outputId": "c32997ac-6ea3-49f2-8ac3-6ffc9af3e985"
      },
      "outputs": [
        {
          "output_type": "execute_result",
          "data": {
            "text/plain": [
              "                artist_name                     track_name  \\\n",
              "0                    mukesh           mohabbat bhi jhoothi   \n",
              "1             frankie laine                      i believe   \n",
              "2               johnnie ray                            cry   \n",
              "3               pérez prado                       patricia   \n",
              "4      giorgos papadopoulos             apopse eida oneiro   \n",
              "...                     ...                            ...   \n",
              "28367               mack 10                10 million ways   \n",
              "28368                m.o.p.  ante up (robbin hoodz theory)   \n",
              "28369                  nine                  whutcha want?   \n",
              "28370            will smith                         switch   \n",
              "28371                 jeezy                         r.i.p.   \n",
              "\n",
              "                                                  lyrics  \n",
              "0      hold time feel break feel untrue convince spea...  \n",
              "1      believe drop rain fall grow believe darkest ni...  \n",
              "2      sweetheart send letter goodbye secret feel bet...  \n",
              "3      kiss lips want stroll charm mambo chacha merin...  \n",
              "4      till darling till matter know till dream live ...  \n",
              "...                                                  ...  \n",
              "28367  cause fuck leave scar tick tock clock come kno...  \n",
              "28368  minks things chain ring braclets yap fame come...  \n",
              "28369  get ban get ban stick crack relax plan attack ...  \n",
              "28370  check check yeah yeah hear thing call switch g...  \n",
              "28371  remix killer alive remix thriller trap bitch s...  \n",
              "\n",
              "[28372 rows x 3 columns]"
            ],
            "text/html": [
              "\n",
              "  <div id=\"df-f4595b84-ecda-4846-81f4-8ba0c43fafb4\">\n",
              "    <div class=\"colab-df-container\">\n",
              "      <div>\n",
              "<style scoped>\n",
              "    .dataframe tbody tr th:only-of-type {\n",
              "        vertical-align: middle;\n",
              "    }\n",
              "\n",
              "    .dataframe tbody tr th {\n",
              "        vertical-align: top;\n",
              "    }\n",
              "\n",
              "    .dataframe thead th {\n",
              "        text-align: right;\n",
              "    }\n",
              "</style>\n",
              "<table border=\"1\" class=\"dataframe\">\n",
              "  <thead>\n",
              "    <tr style=\"text-align: right;\">\n",
              "      <th></th>\n",
              "      <th>artist_name</th>\n",
              "      <th>track_name</th>\n",
              "      <th>lyrics</th>\n",
              "    </tr>\n",
              "  </thead>\n",
              "  <tbody>\n",
              "    <tr>\n",
              "      <th>0</th>\n",
              "      <td>mukesh</td>\n",
              "      <td>mohabbat bhi jhoothi</td>\n",
              "      <td>hold time feel break feel untrue convince spea...</td>\n",
              "    </tr>\n",
              "    <tr>\n",
              "      <th>1</th>\n",
              "      <td>frankie laine</td>\n",
              "      <td>i believe</td>\n",
              "      <td>believe drop rain fall grow believe darkest ni...</td>\n",
              "    </tr>\n",
              "    <tr>\n",
              "      <th>2</th>\n",
              "      <td>johnnie ray</td>\n",
              "      <td>cry</td>\n",
              "      <td>sweetheart send letter goodbye secret feel bet...</td>\n",
              "    </tr>\n",
              "    <tr>\n",
              "      <th>3</th>\n",
              "      <td>pérez prado</td>\n",
              "      <td>patricia</td>\n",
              "      <td>kiss lips want stroll charm mambo chacha merin...</td>\n",
              "    </tr>\n",
              "    <tr>\n",
              "      <th>4</th>\n",
              "      <td>giorgos papadopoulos</td>\n",
              "      <td>apopse eida oneiro</td>\n",
              "      <td>till darling till matter know till dream live ...</td>\n",
              "    </tr>\n",
              "    <tr>\n",
              "      <th>...</th>\n",
              "      <td>...</td>\n",
              "      <td>...</td>\n",
              "      <td>...</td>\n",
              "    </tr>\n",
              "    <tr>\n",
              "      <th>28367</th>\n",
              "      <td>mack 10</td>\n",
              "      <td>10 million ways</td>\n",
              "      <td>cause fuck leave scar tick tock clock come kno...</td>\n",
              "    </tr>\n",
              "    <tr>\n",
              "      <th>28368</th>\n",
              "      <td>m.o.p.</td>\n",
              "      <td>ante up (robbin hoodz theory)</td>\n",
              "      <td>minks things chain ring braclets yap fame come...</td>\n",
              "    </tr>\n",
              "    <tr>\n",
              "      <th>28369</th>\n",
              "      <td>nine</td>\n",
              "      <td>whutcha want?</td>\n",
              "      <td>get ban get ban stick crack relax plan attack ...</td>\n",
              "    </tr>\n",
              "    <tr>\n",
              "      <th>28370</th>\n",
              "      <td>will smith</td>\n",
              "      <td>switch</td>\n",
              "      <td>check check yeah yeah hear thing call switch g...</td>\n",
              "    </tr>\n",
              "    <tr>\n",
              "      <th>28371</th>\n",
              "      <td>jeezy</td>\n",
              "      <td>r.i.p.</td>\n",
              "      <td>remix killer alive remix thriller trap bitch s...</td>\n",
              "    </tr>\n",
              "  </tbody>\n",
              "</table>\n",
              "<p>28372 rows × 3 columns</p>\n",
              "</div>\n",
              "      <button class=\"colab-df-convert\" onclick=\"convertToInteractive('df-f4595b84-ecda-4846-81f4-8ba0c43fafb4')\"\n",
              "              title=\"Convert this dataframe to an interactive table.\"\n",
              "              style=\"display:none;\">\n",
              "        \n",
              "  <svg xmlns=\"http://www.w3.org/2000/svg\" height=\"24px\"viewBox=\"0 0 24 24\"\n",
              "       width=\"24px\">\n",
              "    <path d=\"M0 0h24v24H0V0z\" fill=\"none\"/>\n",
              "    <path d=\"M18.56 5.44l.94 2.06.94-2.06 2.06-.94-2.06-.94-.94-2.06-.94 2.06-2.06.94zm-11 1L8.5 8.5l.94-2.06 2.06-.94-2.06-.94L8.5 2.5l-.94 2.06-2.06.94zm10 10l.94 2.06.94-2.06 2.06-.94-2.06-.94-.94-2.06-.94 2.06-2.06.94z\"/><path d=\"M17.41 7.96l-1.37-1.37c-.4-.4-.92-.59-1.43-.59-.52 0-1.04.2-1.43.59L10.3 9.45l-7.72 7.72c-.78.78-.78 2.05 0 2.83L4 21.41c.39.39.9.59 1.41.59.51 0 1.02-.2 1.41-.59l7.78-7.78 2.81-2.81c.8-.78.8-2.07 0-2.86zM5.41 20L4 18.59l7.72-7.72 1.47 1.35L5.41 20z\"/>\n",
              "  </svg>\n",
              "      </button>\n",
              "      \n",
              "  <style>\n",
              "    .colab-df-container {\n",
              "      display:flex;\n",
              "      flex-wrap:wrap;\n",
              "      gap: 12px;\n",
              "    }\n",
              "\n",
              "    .colab-df-convert {\n",
              "      background-color: #E8F0FE;\n",
              "      border: none;\n",
              "      border-radius: 50%;\n",
              "      cursor: pointer;\n",
              "      display: none;\n",
              "      fill: #1967D2;\n",
              "      height: 32px;\n",
              "      padding: 0 0 0 0;\n",
              "      width: 32px;\n",
              "    }\n",
              "\n",
              "    .colab-df-convert:hover {\n",
              "      background-color: #E2EBFA;\n",
              "      box-shadow: 0px 1px 2px rgba(60, 64, 67, 0.3), 0px 1px 3px 1px rgba(60, 64, 67, 0.15);\n",
              "      fill: #174EA6;\n",
              "    }\n",
              "\n",
              "    [theme=dark] .colab-df-convert {\n",
              "      background-color: #3B4455;\n",
              "      fill: #D2E3FC;\n",
              "    }\n",
              "\n",
              "    [theme=dark] .colab-df-convert:hover {\n",
              "      background-color: #434B5C;\n",
              "      box-shadow: 0px 1px 3px 1px rgba(0, 0, 0, 0.15);\n",
              "      filter: drop-shadow(0px 1px 2px rgba(0, 0, 0, 0.3));\n",
              "      fill: #FFFFFF;\n",
              "    }\n",
              "  </style>\n",
              "\n",
              "      <script>\n",
              "        const buttonEl =\n",
              "          document.querySelector('#df-f4595b84-ecda-4846-81f4-8ba0c43fafb4 button.colab-df-convert');\n",
              "        buttonEl.style.display =\n",
              "          google.colab.kernel.accessAllowed ? 'block' : 'none';\n",
              "\n",
              "        async function convertToInteractive(key) {\n",
              "          const element = document.querySelector('#df-f4595b84-ecda-4846-81f4-8ba0c43fafb4');\n",
              "          const dataTable =\n",
              "            await google.colab.kernel.invokeFunction('convertToInteractive',\n",
              "                                                     [key], {});\n",
              "          if (!dataTable) return;\n",
              "\n",
              "          const docLinkHtml = 'Like what you see? Visit the ' +\n",
              "            '<a target=\"_blank\" href=https://colab.research.google.com/notebooks/data_table.ipynb>data table notebook</a>'\n",
              "            + ' to learn more about interactive tables.';\n",
              "          element.innerHTML = '';\n",
              "          dataTable['output_type'] = 'display_data';\n",
              "          await google.colab.output.renderOutput(dataTable, element);\n",
              "          const docLink = document.createElement('div');\n",
              "          docLink.innerHTML = docLinkHtml;\n",
              "          element.appendChild(docLink);\n",
              "        }\n",
              "      </script>\n",
              "    </div>\n",
              "  </div>\n",
              "  "
            ]
          },
          "metadata": {},
          "execution_count": 8
        }
      ],
      "source": [
        "dfp['lyrics']=dfp['lyrics'].apply(lambda x : eliminater(x) )\n",
        "dfp"
      ],
      "id": "relative-belarus"
    },
    {
      "cell_type": "code",
      "execution_count": 9,
      "metadata": {
        "colab": {
          "base_uri": "https://localhost:8080/",
          "height": 424
        },
        "id": "psychological-complexity",
        "outputId": "9662d0d9-0432-42c4-b5ff-ca95857ccfef"
      },
      "outputs": [
        {
          "output_type": "execute_result",
          "data": {
            "text/plain": [
              "                artist_name                     track_name  \\\n",
              "0                    mukesh           mohabbat bhi jhoothi   \n",
              "1             frankie laine                      i believe   \n",
              "2               johnnie ray                            cry   \n",
              "3               pérez prado                       patricia   \n",
              "4      giorgos papadopoulos             apopse eida oneiro   \n",
              "...                     ...                            ...   \n",
              "28367               mack 10                10 million ways   \n",
              "28368                m.o.p.  ante up (robbin hoodz theory)   \n",
              "28369                  nine                  whutcha want?   \n",
              "28370            will smith                         switch   \n",
              "28371                 jeezy                         r.i.p.   \n",
              "\n",
              "                                                  lyrics  \n",
              "0      hold time feel break feel untrue convince spea...  \n",
              "1      believe drop rain fall grow believe darkest ni...  \n",
              "2      sweetheart send letter goodbye secret feel bet...  \n",
              "3      kiss lips want stroll charm mambo chacha merin...  \n",
              "4      till darling till matter know till dream live ...  \n",
              "...                                                  ...  \n",
              "28367  cause fuck leave scar tick tock clock come kno...  \n",
              "28368  minks things chain ring braclets yap fame come...  \n",
              "28369  get ban get ban stick crack relax plan attack ...  \n",
              "28370  check check yeah yeah hear thing call switch g...  \n",
              "28371  remix killer alive remix thriller trap bitch s...  \n",
              "\n",
              "[28372 rows x 3 columns]"
            ],
            "text/html": [
              "\n",
              "  <div id=\"df-03e0c494-80a4-4b13-9a98-6375a6215754\">\n",
              "    <div class=\"colab-df-container\">\n",
              "      <div>\n",
              "<style scoped>\n",
              "    .dataframe tbody tr th:only-of-type {\n",
              "        vertical-align: middle;\n",
              "    }\n",
              "\n",
              "    .dataframe tbody tr th {\n",
              "        vertical-align: top;\n",
              "    }\n",
              "\n",
              "    .dataframe thead th {\n",
              "        text-align: right;\n",
              "    }\n",
              "</style>\n",
              "<table border=\"1\" class=\"dataframe\">\n",
              "  <thead>\n",
              "    <tr style=\"text-align: right;\">\n",
              "      <th></th>\n",
              "      <th>artist_name</th>\n",
              "      <th>track_name</th>\n",
              "      <th>lyrics</th>\n",
              "    </tr>\n",
              "  </thead>\n",
              "  <tbody>\n",
              "    <tr>\n",
              "      <th>0</th>\n",
              "      <td>mukesh</td>\n",
              "      <td>mohabbat bhi jhoothi</td>\n",
              "      <td>hold time feel break feel untrue convince spea...</td>\n",
              "    </tr>\n",
              "    <tr>\n",
              "      <th>1</th>\n",
              "      <td>frankie laine</td>\n",
              "      <td>i believe</td>\n",
              "      <td>believe drop rain fall grow believe darkest ni...</td>\n",
              "    </tr>\n",
              "    <tr>\n",
              "      <th>2</th>\n",
              "      <td>johnnie ray</td>\n",
              "      <td>cry</td>\n",
              "      <td>sweetheart send letter goodbye secret feel bet...</td>\n",
              "    </tr>\n",
              "    <tr>\n",
              "      <th>3</th>\n",
              "      <td>pérez prado</td>\n",
              "      <td>patricia</td>\n",
              "      <td>kiss lips want stroll charm mambo chacha merin...</td>\n",
              "    </tr>\n",
              "    <tr>\n",
              "      <th>4</th>\n",
              "      <td>giorgos papadopoulos</td>\n",
              "      <td>apopse eida oneiro</td>\n",
              "      <td>till darling till matter know till dream live ...</td>\n",
              "    </tr>\n",
              "    <tr>\n",
              "      <th>...</th>\n",
              "      <td>...</td>\n",
              "      <td>...</td>\n",
              "      <td>...</td>\n",
              "    </tr>\n",
              "    <tr>\n",
              "      <th>28367</th>\n",
              "      <td>mack 10</td>\n",
              "      <td>10 million ways</td>\n",
              "      <td>cause fuck leave scar tick tock clock come kno...</td>\n",
              "    </tr>\n",
              "    <tr>\n",
              "      <th>28368</th>\n",
              "      <td>m.o.p.</td>\n",
              "      <td>ante up (robbin hoodz theory)</td>\n",
              "      <td>minks things chain ring braclets yap fame come...</td>\n",
              "    </tr>\n",
              "    <tr>\n",
              "      <th>28369</th>\n",
              "      <td>nine</td>\n",
              "      <td>whutcha want?</td>\n",
              "      <td>get ban get ban stick crack relax plan attack ...</td>\n",
              "    </tr>\n",
              "    <tr>\n",
              "      <th>28370</th>\n",
              "      <td>will smith</td>\n",
              "      <td>switch</td>\n",
              "      <td>check check yeah yeah hear thing call switch g...</td>\n",
              "    </tr>\n",
              "    <tr>\n",
              "      <th>28371</th>\n",
              "      <td>jeezy</td>\n",
              "      <td>r.i.p.</td>\n",
              "      <td>remix killer alive remix thriller trap bitch s...</td>\n",
              "    </tr>\n",
              "  </tbody>\n",
              "</table>\n",
              "<p>28372 rows × 3 columns</p>\n",
              "</div>\n",
              "      <button class=\"colab-df-convert\" onclick=\"convertToInteractive('df-03e0c494-80a4-4b13-9a98-6375a6215754')\"\n",
              "              title=\"Convert this dataframe to an interactive table.\"\n",
              "              style=\"display:none;\">\n",
              "        \n",
              "  <svg xmlns=\"http://www.w3.org/2000/svg\" height=\"24px\"viewBox=\"0 0 24 24\"\n",
              "       width=\"24px\">\n",
              "    <path d=\"M0 0h24v24H0V0z\" fill=\"none\"/>\n",
              "    <path d=\"M18.56 5.44l.94 2.06.94-2.06 2.06-.94-2.06-.94-.94-2.06-.94 2.06-2.06.94zm-11 1L8.5 8.5l.94-2.06 2.06-.94-2.06-.94L8.5 2.5l-.94 2.06-2.06.94zm10 10l.94 2.06.94-2.06 2.06-.94-2.06-.94-.94-2.06-.94 2.06-2.06.94z\"/><path d=\"M17.41 7.96l-1.37-1.37c-.4-.4-.92-.59-1.43-.59-.52 0-1.04.2-1.43.59L10.3 9.45l-7.72 7.72c-.78.78-.78 2.05 0 2.83L4 21.41c.39.39.9.59 1.41.59.51 0 1.02-.2 1.41-.59l7.78-7.78 2.81-2.81c.8-.78.8-2.07 0-2.86zM5.41 20L4 18.59l7.72-7.72 1.47 1.35L5.41 20z\"/>\n",
              "  </svg>\n",
              "      </button>\n",
              "      \n",
              "  <style>\n",
              "    .colab-df-container {\n",
              "      display:flex;\n",
              "      flex-wrap:wrap;\n",
              "      gap: 12px;\n",
              "    }\n",
              "\n",
              "    .colab-df-convert {\n",
              "      background-color: #E8F0FE;\n",
              "      border: none;\n",
              "      border-radius: 50%;\n",
              "      cursor: pointer;\n",
              "      display: none;\n",
              "      fill: #1967D2;\n",
              "      height: 32px;\n",
              "      padding: 0 0 0 0;\n",
              "      width: 32px;\n",
              "    }\n",
              "\n",
              "    .colab-df-convert:hover {\n",
              "      background-color: #E2EBFA;\n",
              "      box-shadow: 0px 1px 2px rgba(60, 64, 67, 0.3), 0px 1px 3px 1px rgba(60, 64, 67, 0.15);\n",
              "      fill: #174EA6;\n",
              "    }\n",
              "\n",
              "    [theme=dark] .colab-df-convert {\n",
              "      background-color: #3B4455;\n",
              "      fill: #D2E3FC;\n",
              "    }\n",
              "\n",
              "    [theme=dark] .colab-df-convert:hover {\n",
              "      background-color: #434B5C;\n",
              "      box-shadow: 0px 1px 3px 1px rgba(0, 0, 0, 0.15);\n",
              "      filter: drop-shadow(0px 1px 2px rgba(0, 0, 0, 0.3));\n",
              "      fill: #FFFFFF;\n",
              "    }\n",
              "  </style>\n",
              "\n",
              "      <script>\n",
              "        const buttonEl =\n",
              "          document.querySelector('#df-03e0c494-80a4-4b13-9a98-6375a6215754 button.colab-df-convert');\n",
              "        buttonEl.style.display =\n",
              "          google.colab.kernel.accessAllowed ? 'block' : 'none';\n",
              "\n",
              "        async function convertToInteractive(key) {\n",
              "          const element = document.querySelector('#df-03e0c494-80a4-4b13-9a98-6375a6215754');\n",
              "          const dataTable =\n",
              "            await google.colab.kernel.invokeFunction('convertToInteractive',\n",
              "                                                     [key], {});\n",
              "          if (!dataTable) return;\n",
              "\n",
              "          const docLinkHtml = 'Like what you see? Visit the ' +\n",
              "            '<a target=\"_blank\" href=https://colab.research.google.com/notebooks/data_table.ipynb>data table notebook</a>'\n",
              "            + ' to learn more about interactive tables.';\n",
              "          element.innerHTML = '';\n",
              "          dataTable['output_type'] = 'display_data';\n",
              "          await google.colab.output.renderOutput(dataTable, element);\n",
              "          const docLink = document.createElement('div');\n",
              "          docLink.innerHTML = docLinkHtml;\n",
              "          element.appendChild(docLink);\n",
              "        }\n",
              "      </script>\n",
              "    </div>\n",
              "  </div>\n",
              "  "
            ]
          },
          "metadata": {},
          "execution_count": 9
        }
      ],
      "source": [
        "#make all the characters of the data small letters\n",
        "dfp['lyrics']= dfp['lyrics'].apply(lambda r: (r.lower()))\n",
        "dfp"
      ],
      "id": "psychological-complexity"
    },
    {
      "cell_type": "code",
      "execution_count": 10,
      "metadata": {
        "colab": {
          "base_uri": "https://localhost:8080/",
          "height": 458
        },
        "id": "entertaining-earthquake",
        "outputId": "719260c5-fd3f-4321-a833-423ff43be998"
      },
      "outputs": [
        {
          "output_type": "stream",
          "name": "stdout",
          "text": [
            "[nltk_data] Downloading package punkt to /root/nltk_data...\n",
            "[nltk_data]   Unzipping tokenizers/punkt.zip.\n"
          ]
        },
        {
          "output_type": "execute_result",
          "data": {
            "text/plain": [
              "                artist_name                     track_name  \\\n",
              "0                    mukesh           mohabbat bhi jhoothi   \n",
              "1             frankie laine                      i believe   \n",
              "2               johnnie ray                            cry   \n",
              "3               pérez prado                       patricia   \n",
              "4      giorgos papadopoulos             apopse eida oneiro   \n",
              "...                     ...                            ...   \n",
              "28367               mack 10                10 million ways   \n",
              "28368                m.o.p.  ante up (robbin hoodz theory)   \n",
              "28369                  nine                  whutcha want?   \n",
              "28370            will smith                         switch   \n",
              "28371                 jeezy                         r.i.p.   \n",
              "\n",
              "                                                  lyrics  \n",
              "0      [hold, time, feel, break, feel, untrue, convin...  \n",
              "1      [believe, drop, rain, fall, grow, believe, dar...  \n",
              "2      [sweetheart, send, letter, goodbye, secret, fe...  \n",
              "3      [kiss, lips, want, stroll, charm, mambo, chach...  \n",
              "4      [till, darling, till, matter, know, till, drea...  \n",
              "...                                                  ...  \n",
              "28367  [cause, fuck, leave, scar, tick, tock, clock, ...  \n",
              "28368  [minks, things, chain, ring, braclets, yap, fa...  \n",
              "28369  [get, ban, get, ban, stick, crack, relax, plan...  \n",
              "28370  [check, check, yeah, yeah, hear, thing, call, ...  \n",
              "28371  [remix, killer, alive, remix, thriller, trap, ...  \n",
              "\n",
              "[28372 rows x 3 columns]"
            ],
            "text/html": [
              "\n",
              "  <div id=\"df-5157233f-debf-427d-b280-e0e030af2a27\">\n",
              "    <div class=\"colab-df-container\">\n",
              "      <div>\n",
              "<style scoped>\n",
              "    .dataframe tbody tr th:only-of-type {\n",
              "        vertical-align: middle;\n",
              "    }\n",
              "\n",
              "    .dataframe tbody tr th {\n",
              "        vertical-align: top;\n",
              "    }\n",
              "\n",
              "    .dataframe thead th {\n",
              "        text-align: right;\n",
              "    }\n",
              "</style>\n",
              "<table border=\"1\" class=\"dataframe\">\n",
              "  <thead>\n",
              "    <tr style=\"text-align: right;\">\n",
              "      <th></th>\n",
              "      <th>artist_name</th>\n",
              "      <th>track_name</th>\n",
              "      <th>lyrics</th>\n",
              "    </tr>\n",
              "  </thead>\n",
              "  <tbody>\n",
              "    <tr>\n",
              "      <th>0</th>\n",
              "      <td>mukesh</td>\n",
              "      <td>mohabbat bhi jhoothi</td>\n",
              "      <td>[hold, time, feel, break, feel, untrue, convin...</td>\n",
              "    </tr>\n",
              "    <tr>\n",
              "      <th>1</th>\n",
              "      <td>frankie laine</td>\n",
              "      <td>i believe</td>\n",
              "      <td>[believe, drop, rain, fall, grow, believe, dar...</td>\n",
              "    </tr>\n",
              "    <tr>\n",
              "      <th>2</th>\n",
              "      <td>johnnie ray</td>\n",
              "      <td>cry</td>\n",
              "      <td>[sweetheart, send, letter, goodbye, secret, fe...</td>\n",
              "    </tr>\n",
              "    <tr>\n",
              "      <th>3</th>\n",
              "      <td>pérez prado</td>\n",
              "      <td>patricia</td>\n",
              "      <td>[kiss, lips, want, stroll, charm, mambo, chach...</td>\n",
              "    </tr>\n",
              "    <tr>\n",
              "      <th>4</th>\n",
              "      <td>giorgos papadopoulos</td>\n",
              "      <td>apopse eida oneiro</td>\n",
              "      <td>[till, darling, till, matter, know, till, drea...</td>\n",
              "    </tr>\n",
              "    <tr>\n",
              "      <th>...</th>\n",
              "      <td>...</td>\n",
              "      <td>...</td>\n",
              "      <td>...</td>\n",
              "    </tr>\n",
              "    <tr>\n",
              "      <th>28367</th>\n",
              "      <td>mack 10</td>\n",
              "      <td>10 million ways</td>\n",
              "      <td>[cause, fuck, leave, scar, tick, tock, clock, ...</td>\n",
              "    </tr>\n",
              "    <tr>\n",
              "      <th>28368</th>\n",
              "      <td>m.o.p.</td>\n",
              "      <td>ante up (robbin hoodz theory)</td>\n",
              "      <td>[minks, things, chain, ring, braclets, yap, fa...</td>\n",
              "    </tr>\n",
              "    <tr>\n",
              "      <th>28369</th>\n",
              "      <td>nine</td>\n",
              "      <td>whutcha want?</td>\n",
              "      <td>[get, ban, get, ban, stick, crack, relax, plan...</td>\n",
              "    </tr>\n",
              "    <tr>\n",
              "      <th>28370</th>\n",
              "      <td>will smith</td>\n",
              "      <td>switch</td>\n",
              "      <td>[check, check, yeah, yeah, hear, thing, call, ...</td>\n",
              "    </tr>\n",
              "    <tr>\n",
              "      <th>28371</th>\n",
              "      <td>jeezy</td>\n",
              "      <td>r.i.p.</td>\n",
              "      <td>[remix, killer, alive, remix, thriller, trap, ...</td>\n",
              "    </tr>\n",
              "  </tbody>\n",
              "</table>\n",
              "<p>28372 rows × 3 columns</p>\n",
              "</div>\n",
              "      <button class=\"colab-df-convert\" onclick=\"convertToInteractive('df-5157233f-debf-427d-b280-e0e030af2a27')\"\n",
              "              title=\"Convert this dataframe to an interactive table.\"\n",
              "              style=\"display:none;\">\n",
              "        \n",
              "  <svg xmlns=\"http://www.w3.org/2000/svg\" height=\"24px\"viewBox=\"0 0 24 24\"\n",
              "       width=\"24px\">\n",
              "    <path d=\"M0 0h24v24H0V0z\" fill=\"none\"/>\n",
              "    <path d=\"M18.56 5.44l.94 2.06.94-2.06 2.06-.94-2.06-.94-.94-2.06-.94 2.06-2.06.94zm-11 1L8.5 8.5l.94-2.06 2.06-.94-2.06-.94L8.5 2.5l-.94 2.06-2.06.94zm10 10l.94 2.06.94-2.06 2.06-.94-2.06-.94-.94-2.06-.94 2.06-2.06.94z\"/><path d=\"M17.41 7.96l-1.37-1.37c-.4-.4-.92-.59-1.43-.59-.52 0-1.04.2-1.43.59L10.3 9.45l-7.72 7.72c-.78.78-.78 2.05 0 2.83L4 21.41c.39.39.9.59 1.41.59.51 0 1.02-.2 1.41-.59l7.78-7.78 2.81-2.81c.8-.78.8-2.07 0-2.86zM5.41 20L4 18.59l7.72-7.72 1.47 1.35L5.41 20z\"/>\n",
              "  </svg>\n",
              "      </button>\n",
              "      \n",
              "  <style>\n",
              "    .colab-df-container {\n",
              "      display:flex;\n",
              "      flex-wrap:wrap;\n",
              "      gap: 12px;\n",
              "    }\n",
              "\n",
              "    .colab-df-convert {\n",
              "      background-color: #E8F0FE;\n",
              "      border: none;\n",
              "      border-radius: 50%;\n",
              "      cursor: pointer;\n",
              "      display: none;\n",
              "      fill: #1967D2;\n",
              "      height: 32px;\n",
              "      padding: 0 0 0 0;\n",
              "      width: 32px;\n",
              "    }\n",
              "\n",
              "    .colab-df-convert:hover {\n",
              "      background-color: #E2EBFA;\n",
              "      box-shadow: 0px 1px 2px rgba(60, 64, 67, 0.3), 0px 1px 3px 1px rgba(60, 64, 67, 0.15);\n",
              "      fill: #174EA6;\n",
              "    }\n",
              "\n",
              "    [theme=dark] .colab-df-convert {\n",
              "      background-color: #3B4455;\n",
              "      fill: #D2E3FC;\n",
              "    }\n",
              "\n",
              "    [theme=dark] .colab-df-convert:hover {\n",
              "      background-color: #434B5C;\n",
              "      box-shadow: 0px 1px 3px 1px rgba(0, 0, 0, 0.15);\n",
              "      filter: drop-shadow(0px 1px 2px rgba(0, 0, 0, 0.3));\n",
              "      fill: #FFFFFF;\n",
              "    }\n",
              "  </style>\n",
              "\n",
              "      <script>\n",
              "        const buttonEl =\n",
              "          document.querySelector('#df-5157233f-debf-427d-b280-e0e030af2a27 button.colab-df-convert');\n",
              "        buttonEl.style.display =\n",
              "          google.colab.kernel.accessAllowed ? 'block' : 'none';\n",
              "\n",
              "        async function convertToInteractive(key) {\n",
              "          const element = document.querySelector('#df-5157233f-debf-427d-b280-e0e030af2a27');\n",
              "          const dataTable =\n",
              "            await google.colab.kernel.invokeFunction('convertToInteractive',\n",
              "                                                     [key], {});\n",
              "          if (!dataTable) return;\n",
              "\n",
              "          const docLinkHtml = 'Like what you see? Visit the ' +\n",
              "            '<a target=\"_blank\" href=https://colab.research.google.com/notebooks/data_table.ipynb>data table notebook</a>'\n",
              "            + ' to learn more about interactive tables.';\n",
              "          element.innerHTML = '';\n",
              "          dataTable['output_type'] = 'display_data';\n",
              "          await google.colab.output.renderOutput(dataTable, element);\n",
              "          const docLink = document.createElement('div');\n",
              "          docLink.innerHTML = docLinkHtml;\n",
              "          element.appendChild(docLink);\n",
              "        }\n",
              "      </script>\n",
              "    </div>\n",
              "  </div>\n",
              "  "
            ]
          },
          "metadata": {},
          "execution_count": 10
        }
      ],
      "source": [
        "import nltk\n",
        "nltk.download('punkt')\n",
        "# do the tokinisation part using word_tokenize fanction\n",
        "dfp['lyrics']=dfp['lyrics'].apply(lambda x : word_tokenize(x))\n",
        "dfp"
      ],
      "id": "entertaining-earthquake"
    },
    {
      "cell_type": "code",
      "execution_count": 11,
      "metadata": {
        "colab": {
          "base_uri": "https://localhost:8080/"
        },
        "id": "generic-writer",
        "outputId": "761aacdd-df0a-4bd4-cabb-6989884f8c17"
      },
      "outputs": [
        {
          "output_type": "stream",
          "name": "stdout",
          "text": [
            "[nltk_data] Downloading package stopwords to /root/nltk_data...\n",
            "[nltk_data]   Unzipping corpora/stopwords.zip.\n"
          ]
        },
        {
          "output_type": "execute_result",
          "data": {
            "text/plain": [
              "True"
            ]
          },
          "metadata": {},
          "execution_count": 11
        }
      ],
      "source": [
        "from nltk.corpus import stopwords\n",
        "nltk.download('stopwords')"
      ],
      "id": "generic-writer"
    },
    {
      "cell_type": "code",
      "execution_count": 12,
      "metadata": {
        "id": "floral-transcript"
      },
      "outputs": [],
      "source": [
        "stop_words = stopwords.words('english')"
      ],
      "id": "floral-transcript"
    },
    {
      "cell_type": "code",
      "execution_count": 13,
      "metadata": {
        "id": "grave-julian"
      },
      "outputs": [],
      "source": [
        "#delet the stop words\n",
        "dfp['lyrics'] = dfp[\"lyrics\"].apply (lambda r: [y for y in r if y not in stop_words] )  "
      ],
      "id": "grave-julian"
    },
    {
      "cell_type": "code",
      "execution_count": 14,
      "metadata": {
        "colab": {
          "base_uri": "https://localhost:8080/"
        },
        "id": "otherwise-straight",
        "outputId": "e00385c2-be38-4a2d-a22c-b3be15b01dbf"
      },
      "outputs": [
        {
          "output_type": "execute_result",
          "data": {
            "text/plain": [
              "0        [hold, time, feel, break, feel, untrue, convin...\n",
              "1        [believe, drop, rain, fall, grow, believe, dar...\n",
              "2        [sweetheart, send, letter, goodbye, secret, fe...\n",
              "3        [kiss, lips, want, stroll, charm, mambo, chach...\n",
              "4        [till, darling, till, matter, know, till, drea...\n",
              "                               ...                        \n",
              "28367    [cause, fuck, leave, scar, tick, tock, clock, ...\n",
              "28368    [minks, things, chain, ring, braclets, yap, fa...\n",
              "28369    [get, ban, get, ban, stick, crack, relax, plan...\n",
              "28370    [check, check, yeah, yeah, hear, thing, call, ...\n",
              "28371    [remix, killer, alive, remix, thriller, trap, ...\n",
              "Name: lyrics, Length: 28372, dtype: object"
            ]
          },
          "metadata": {},
          "execution_count": 14
        }
      ],
      "source": [
        "dfp['lyrics']"
      ],
      "id": "otherwise-straight"
    },
    {
      "cell_type": "code",
      "execution_count": 15,
      "metadata": {
        "id": "eligible-blues"
      },
      "outputs": [],
      "source": [
        "from nltk.stem import PorterStemmer\n",
        "ps = PorterStemmer()"
      ],
      "id": "eligible-blues"
    },
    {
      "cell_type": "code",
      "execution_count": 16,
      "metadata": {
        "id": "increased-lingerie"
      },
      "outputs": [],
      "source": [
        "#use the proter fonction to do the stemming to all aour data review\n",
        "dfp['lyrics']= dfp['lyrics'].apply(lambda r :[ps.stem(y) for y in r] )"
      ],
      "id": "increased-lingerie"
    },
    {
      "cell_type": "code",
      "execution_count": 17,
      "metadata": {
        "colab": {
          "base_uri": "https://localhost:8080/"
        },
        "id": "finite-learning",
        "outputId": "c5128b8c-b84e-4848-e95b-c6f1a8203fa4"
      },
      "outputs": [
        {
          "output_type": "execute_result",
          "data": {
            "text/plain": [
              "0        [hold, time, feel, break, feel, untru, convinc...\n",
              "1        [believ, drop, rain, fall, grow, believ, darke...\n",
              "2        [sweetheart, send, letter, goodby, secret, fee...\n",
              "3        [kiss, lip, want, stroll, charm, mambo, chacha...\n",
              "4        [till, darl, till, matter, know, till, dream, ...\n",
              "                               ...                        \n",
              "28367    [caus, fuck, leav, scar, tick, tock, clock, co...\n",
              "28368    [mink, thing, chain, ring, braclet, yap, fame,...\n",
              "28369    [get, ban, get, ban, stick, crack, relax, plan...\n",
              "28370    [check, check, yeah, yeah, hear, thing, call, ...\n",
              "28371    [remix, killer, aliv, remix, thriller, trap, b...\n",
              "Name: lyrics, Length: 28372, dtype: object"
            ]
          },
          "metadata": {},
          "execution_count": 17
        }
      ],
      "source": [
        "dfp['lyrics']"
      ],
      "id": "finite-learning"
    },
    {
      "cell_type": "markdown",
      "metadata": {
        "id": "sunrise-norfolk"
      },
      "source": [
        "**make the liste data tring again to do the TF-IDF part**"
      ],
      "id": "sunrise-norfolk"
    },
    {
      "cell_type": "code",
      "execution_count": 18,
      "metadata": {
        "id": "coordinated-gazette"
      },
      "outputs": [],
      "source": [
        "dfp['lyrics_a']=dfp['lyrics'].apply(lambda r : ' '.join(r))"
      ],
      "id": "coordinated-gazette"
    },
    {
      "cell_type": "code",
      "execution_count": 19,
      "metadata": {
        "colab": {
          "base_uri": "https://localhost:8080/"
        },
        "id": "USUWqxa2M39R",
        "outputId": "de24525c-c525-4b5e-aca3-4f835e3c4295"
      },
      "outputs": [
        {
          "output_type": "execute_result",
          "data": {
            "text/plain": [
              "0        hold time feel break feel untru convinc speak ...\n",
              "1        believ drop rain fall grow believ darkest nigh...\n",
              "2        sweetheart send letter goodby secret feel bett...\n",
              "3        kiss lip want stroll charm mambo chacha mering...\n",
              "4        till darl till matter know till dream live apa...\n",
              "                               ...                        \n",
              "28367    caus fuck leav scar tick tock clock come knock...\n",
              "28368    mink thing chain ring braclet yap fame come fo...\n",
              "28369    get ban get ban stick crack relax plan attack ...\n",
              "28370    check check yeah yeah hear thing call switch g...\n",
              "28371    remix killer aliv remix thriller trap bitch sp...\n",
              "Name: lyrics_a, Length: 28372, dtype: object"
            ]
          },
          "metadata": {},
          "execution_count": 19
        }
      ],
      "source": [
        "dfp['lyrics_a']"
      ],
      "id": "USUWqxa2M39R"
    },
    {
      "cell_type": "code",
      "execution_count": null,
      "metadata": {
        "id": "d0Jot8WKAHhW"
      },
      "outputs": [],
      "source": [
        "DF = {}\n",
        "for i in range(len(dfp[\"lyrics_a\"])):                                  #term\n",
        "  tokens = str(dfp.loc[i,\"lyrics_a\"]).split()                        #term\n",
        "  for w in tokens:                                                        #term\n",
        "    try:                                                                #term\n",
        "        DF[w].add(i)                                                    #term\n",
        "    except:                                                             #term\n",
        "        DF[w] = {i}                                                      #term\n",
        "\n",
        "vocab=[x for x in DF]                                                           #get vocabulary\n",
        "print(\"Vocabulary lenght is-----> \",len(vocab))    #get vocabulary\n",
        "print(\"Vocabulary is-----> \",vocab)    #get vocabulary\n"
      ],
      "id": "d0Jot8WKAHhW"
    },
    {
      "cell_type": "code",
      "execution_count": 21,
      "metadata": {
        "id": "F9FLXFcOBPm9"
      },
      "outputs": [],
      "source": [
        "from sklearn.feature_extraction.text import TfidfVectorizer"
      ],
      "id": "F9FLXFcOBPm9"
    },
    {
      "cell_type": "code",
      "execution_count": 22,
      "metadata": {
        "id": "fitting-experience"
      },
      "outputs": [],
      "source": [
        "index = TfidfVectorizer()"
      ],
      "id": "fitting-experience"
    },
    {
      "cell_type": "code",
      "execution_count": 23,
      "metadata": {
        "id": "technical-galaxy"
      },
      "outputs": [],
      "source": [
        "tfidf = index.fit_transform(dfp['lyrics_a'])"
      ],
      "id": "technical-galaxy"
    },
    {
      "cell_type": "code",
      "execution_count": 24,
      "metadata": {
        "colab": {
          "base_uri": "https://localhost:8080/"
        },
        "id": "guilty-mixture",
        "outputId": "1d0a2305-2bdf-47b1-cbfc-8ad5aca0f4e6"
      },
      "outputs": [
        {
          "output_type": "stream",
          "name": "stdout",
          "text": [
            "(28372, 44034)\n"
          ]
        }
      ],
      "source": [
        "print(tfidf.shape)"
      ],
      "id": "guilty-mixture"
    },
    {
      "cell_type": "code",
      "execution_count": 25,
      "metadata": {
        "colab": {
          "base_uri": "https://localhost:8080/"
        },
        "id": "89AVLdHhMMTQ",
        "outputId": "b86b08f9-8574-4040-eb7a-1cc21d916264"
      },
      "outputs": [
        {
          "output_type": "stream",
          "name": "stderr",
          "text": [
            "/usr/local/lib/python3.7/dist-packages/sklearn/utils/deprecation.py:87: FutureWarning: Function get_feature_names is deprecated; get_feature_names is deprecated in 1.0 and will be removed in 1.2. Please use get_feature_names_out instead.\n",
            "  warnings.warn(msg, category=FutureWarning)\n"
          ]
        }
      ],
      "source": [
        "matrice=pd.DataFrame(tfidf.toarray(), columns=index.get_feature_names())"
      ],
      "id": "89AVLdHhMMTQ"
    },
    {
      "cell_type": "code",
      "execution_count": 26,
      "metadata": {
        "id": "F-m23Be4MMP1"
      },
      "outputs": [],
      "source": [
        "# matrice"
      ],
      "id": "F-m23Be4MMP1"
    },
    {
      "cell_type": "code",
      "execution_count": 27,
      "metadata": {
        "id": "wg6-Wj36-MMC"
      },
      "outputs": [],
      "source": [
        "# matrice.to_csv('term_x_documents.csv')"
      ],
      "id": "wg6-Wj36-MMC"
    },
    {
      "cell_type": "code",
      "execution_count": 28,
      "metadata": {
        "id": "jR8mb7H2MMMQ"
      },
      "outputs": [],
      "source": [
        "stemmer = nltk.stem.porter.PorterStemmer()\n",
        "remove_punctuation_map = dict((ord(char),None) for char in string.punctuation)\n",
        "\n",
        "def stem_token(text):\n",
        "    return [stemmer.stem(token) for token in text]\n",
        "\n",
        "def normalize(text):\n",
        "    r= stem_token(nltk.word_tokenize(text.lower().translate(remove_punctuation_map)))\n",
        "    return r\n",
        "\n"
      ],
      "id": "jR8mb7H2MMMQ"
    },
    {
      "cell_type": "code",
      "execution_count": 29,
      "metadata": {
        "id": "gR8hGl-FQ28V"
      },
      "outputs": [],
      "source": [
        "def clean():\n",
        "  req = R\n",
        "  req= req.lower()\n",
        "  req= req.split()\n",
        "  req = [y for y in req if y not in stop_words]\n",
        "  req = [ps.stem(y) for y in req ]\n",
        "  req = \" \".join([r for r in req if r not in string.punctuation])\n",
        "\n",
        "  return req"
      ],
      "id": "gR8hGl-FQ28V"
    },
    {
      "cell_type": "code",
      "execution_count": 30,
      "metadata": {
        "id": "cRXXKQIWMMIa"
      },
      "outputs": [],
      "source": [
        "def cos_similarit(text,text1):\n",
        "    vectoriser = TfidfVectorizer(ngram_range=(1,1))\n",
        "    tfidf= vectoriser.fit_transform([text,text1])\n",
        "    return ((tfidf*tfidf.T).A)[0,1]"
      ],
      "id": "cRXXKQIWMMIa"
    },
    {
      "cell_type": "code",
      "execution_count": 31,
      "metadata": {
        "id": "1gG6fCwrMMBi"
      },
      "outputs": [],
      "source": [
        "def similarit2(texte):\n",
        "    similarité=dfp['lyrics_a'].apply(lambda r :cos_similarit(r,texte)) \n",
        "    list=similarité.to_list()\n",
        "    l = pd.Series(list)\n",
        "    k=l.nlargest(10)\n",
        "    dataf=pd.DataFrame(k, columns=['score'])\n",
        "    # m=[m for i in k if k>0.7]\n",
        "    return dataf"
      ],
      "id": "1gG6fCwrMMBi"
    },
    {
      "cell_type": "markdown",
      "metadata": {
        "id": "_7qVOjKktkoj"
      },
      "source": [
        ".\n"
      ],
      "id": "_7qVOjKktkoj"
    },
    {
      "cell_type": "markdown",
      "metadata": {
        "id": "j8iwZ2mSt2Mz"
      },
      "source": [
        ".\n"
      ],
      "id": "j8iwZ2mSt2Mz"
    },
    {
      "cell_type": "markdown",
      "metadata": {
        "id": "y8iEl31Lt2bL"
      },
      "source": [
        ".\n"
      ],
      "id": "y8iEl31Lt2bL"
    },
    {
      "cell_type": "markdown",
      "metadata": {
        "id": "PW-o4vOUt2fY"
      },
      "source": [
        ".\n"
      ],
      "id": "PW-o4vOUt2fY"
    },
    {
      "cell_type": "markdown",
      "metadata": {
        "id": "ggZi__Fat2i2"
      },
      "source": [
        ".\n"
      ],
      "id": "ggZi__Fat2i2"
    },
    {
      "cell_type": "markdown",
      "metadata": {
        "id": "nhIcxoDRt2m1"
      },
      "source": [
        ".\n"
      ],
      "id": "nhIcxoDRt2m1"
    },
    {
      "cell_type": "markdown",
      "metadata": {
        "id": "bTbnAdhXt34x"
      },
      "source": [
        ".\n"
      ],
      "id": "bTbnAdhXt34x"
    },
    {
      "cell_type": "markdown",
      "metadata": {
        "id": "NHKvRYZtt39O"
      },
      "source": [
        ".\n"
      ],
      "id": "NHKvRYZtt39O"
    },
    {
      "cell_type": "markdown",
      "metadata": {
        "id": "s74bmLkYt4CR"
      },
      "source": [
        ".\n"
      ],
      "id": "s74bmLkYt4CR"
    },
    {
      "cell_type": "code",
      "execution_count": 32,
      "metadata": {
        "cellView": "form",
        "id": "lMvKt_XFxECs",
        "colab": {
          "base_uri": "https://localhost:8080/",
          "height": 1000,
          "referenced_widgets": [
            "a3e7eea700934b9d814088467d76ca44",
            "252f08a28e9e48fbb58875b40c79758e",
            "cb828484996b42bda7972185baddd58d",
            "da8b8333dcab46518c9c4278bccc6dcd",
            "af66ac341dd04fc08f420801325d11aa"
          ]
        },
        "outputId": "f4425f5d-b4f1-42b9-b07d-94aad4c4fa5d"
      },
      "outputs": [
        {
          "output_type": "display_data",
          "data": {
            "text/plain": [
              "Button(description='Search', style=ButtonStyle())"
            ],
            "application/vnd.jupyter.widget-view+json": {
              "version_major": 2,
              "version_minor": 0,
              "model_id": "a3e7eea700934b9d814088467d76ca44"
            }
          },
          "metadata": {}
        },
        {
          "output_type": "display_data",
          "data": {
            "text/plain": [
              "Output()"
            ],
            "application/vnd.jupyter.widget-view+json": {
              "version_major": 2,
              "version_minor": 0,
              "model_id": "da8b8333dcab46518c9c4278bccc6dcd"
            }
          },
          "metadata": {}
        }
      ],
      "source": [
        "#ss\n",
        "#@title Interface RI Project \n",
        "#@markdown ---\n",
        "\n",
        "R = \"come motherfucker spit shit minutes chillin bitchin stuff frankly dont fuck intimate feel stuff feel like sit duck fuel cause theres weakness step fuckin bitch wanna test better caution extra warn mar yeah second horseman kill justify like family diss rest swaggin like rockstar limitless horrorcore bear mister death envy bitterness play rough fool piss presence perfect line spit sentence bless excrements holy shit endin want fight victim vengeance hook kill stone smother know flow super flow like fuckin know soul brother life like cover come punisher know gold hustlah pirate mafakka throath cutter know amazin controllin time space ancient mind razor rhyme alien laser eye cold roll dice crush glacier size fadin live high bitch think say straight think say clearly evil evil necessary prayers virgin diss hospital cemetary leave vast speculation quit rappin wack reputation write everyday lack termination education come motherfucker wanna packin chattin braggin demon rappin blastin smashin kickin jabbin peak game feel swaggin superrap flow little taste embrace feelin like waste greatest create dream replace fake reach overaged\"#@param {type:'string'}\n",
        "#@markdown ---\n",
        "import ipywidgets as widgets\n",
        "from IPython.display import display\n",
        "button = widgets.Button(description=\"Search\")\n",
        "output = widgets.Output()\n",
        "\n",
        "def on_button_clicked(b):\n",
        "\n",
        "  matr=similarit2(clean())\n",
        "  v1=int(matr[:1].index.values)\n",
        "  v2=int(matr[1:2].index.values)\n",
        "  v3=int(matr[2:3].index.values)\n",
        "  v4=int(matr[3:4].index.values)\n",
        "  v5=int(matr[4:5].index.values)\n",
        "  v6=int(matr[5:6].index.values)\n",
        "  v7=int(matr[6:7].index.values)\n",
        "  v8=int(matr[7:8].index.values)\n",
        "  v9=int(matr[8:9].index.values)\n",
        "  v10=int(matr[9:10].index.values)\n",
        "  txt1= dfp1['lyrics_a'][v1]\n",
        "  txt2= dfp1['lyrics_a'][v2]\n",
        "  txt3= dfp1['lyrics_a'][v3]\n",
        "  txt4= dfp1['lyrics_a'][v4]\n",
        "  txt5= dfp1['lyrics_a'][v5]\n",
        "  txt6= dfp1['lyrics_a'][v6]\n",
        "  txt7= dfp1['lyrics_a'][v7]\n",
        "  txt8= dfp1['lyrics_a'][v8]\n",
        "  txt9= dfp1['lyrics_a'][v9]\n",
        "  txt10= dfp1['lyrics_a'][v10]\n",
        "\n",
        "  docs=['doc1','doc2','doc3','doc4','doc5','doc6','doc7','doc8','doc9','doc10']\n",
        "  txts=[txt1,txt2,txt3,txt4,txt5,txt6,txt7,txt8,txt9,txt10]\n",
        "  indexs=[v1,v2,v3,v4,v5,v6,v7,v8,v9,v10]\n",
        "  lists = [txts,docs,indexs,matr.score.to_list()]\n",
        "  dict={\n",
        "    \n",
        "    'texts': txts,\n",
        "    # 'docs': docs,\n",
        "    'indexes': indexs,\n",
        "    'score':matr.score.to_list()  \n",
        "  }\n",
        "  df= pd.DataFrame(dict,index=txts)\n",
        "  # df=df.set_index(df['texts'])\n",
        "  df=df.drop('texts',axis=1)\n",
        "\n",
        "\n",
        "\n",
        "  \n",
        "\n",
        "\n",
        "\n",
        "\n",
        "\n",
        "\n",
        "  with output:\n",
        "    print('\\n','','','','','','','','','','','','','','','','','','','','','','','','','','','','','','','','','','','','','','','','','','','','','','','','','','','','','','','','','','','','','','','','','','','','','','','','','','','','','','','',\"les docs similaires au text entree sont\")\n",
        "    display(df)\n",
        "    \n",
        "\n",
        "button.on_click(on_button_clicked)\n",
        "display(button, output)\n"
      ],
      "id": "lMvKt_XFxECs"
    }
  ],
  "metadata": {
    "accelerator": "TPU",
    "colab": {
      "collapsed_sections": [],
      "name": "music (7).ipynb",
      "provenance": []
    },
    "kernelspec": {
      "display_name": "Python 3",
      "language": "python",
      "name": "python3"
    },
    "language_info": {
      "codemirror_mode": {
        "name": "ipython",
        "version": 3
      },
      "file_extension": ".py",
      "mimetype": "text/x-python",
      "name": "python",
      "nbconvert_exporter": "python",
      "pygments_lexer": "ipython3",
      "version": "3.8.3"
    },
    "widgets": {
      "application/vnd.jupyter.widget-state+json": {
        "a3e7eea700934b9d814088467d76ca44": {
          "model_module": "@jupyter-widgets/controls",
          "model_name": "ButtonModel",
          "model_module_version": "1.5.0",
          "state": {
            "_dom_classes": [],
            "_model_module": "@jupyter-widgets/controls",
            "_model_module_version": "1.5.0",
            "_model_name": "ButtonModel",
            "_view_count": null,
            "_view_module": "@jupyter-widgets/controls",
            "_view_module_version": "1.5.0",
            "_view_name": "ButtonView",
            "button_style": "",
            "description": "Search",
            "disabled": false,
            "icon": "",
            "layout": "IPY_MODEL_252f08a28e9e48fbb58875b40c79758e",
            "style": "IPY_MODEL_cb828484996b42bda7972185baddd58d",
            "tooltip": ""
          }
        },
        "252f08a28e9e48fbb58875b40c79758e": {
          "model_module": "@jupyter-widgets/base",
          "model_name": "LayoutModel",
          "model_module_version": "1.2.0",
          "state": {
            "_model_module": "@jupyter-widgets/base",
            "_model_module_version": "1.2.0",
            "_model_name": "LayoutModel",
            "_view_count": null,
            "_view_module": "@jupyter-widgets/base",
            "_view_module_version": "1.2.0",
            "_view_name": "LayoutView",
            "align_content": null,
            "align_items": null,
            "align_self": null,
            "border": null,
            "bottom": null,
            "display": null,
            "flex": null,
            "flex_flow": null,
            "grid_area": null,
            "grid_auto_columns": null,
            "grid_auto_flow": null,
            "grid_auto_rows": null,
            "grid_column": null,
            "grid_gap": null,
            "grid_row": null,
            "grid_template_areas": null,
            "grid_template_columns": null,
            "grid_template_rows": null,
            "height": null,
            "justify_content": null,
            "justify_items": null,
            "left": null,
            "margin": null,
            "max_height": null,
            "max_width": null,
            "min_height": null,
            "min_width": null,
            "object_fit": null,
            "object_position": null,
            "order": null,
            "overflow": null,
            "overflow_x": null,
            "overflow_y": null,
            "padding": null,
            "right": null,
            "top": null,
            "visibility": null,
            "width": null
          }
        },
        "cb828484996b42bda7972185baddd58d": {
          "model_module": "@jupyter-widgets/controls",
          "model_name": "ButtonStyleModel",
          "model_module_version": "1.5.0",
          "state": {
            "_model_module": "@jupyter-widgets/controls",
            "_model_module_version": "1.5.0",
            "_model_name": "ButtonStyleModel",
            "_view_count": null,
            "_view_module": "@jupyter-widgets/base",
            "_view_module_version": "1.2.0",
            "_view_name": "StyleView",
            "button_color": null,
            "font_weight": ""
          }
        },
        "da8b8333dcab46518c9c4278bccc6dcd": {
          "model_module": "@jupyter-widgets/output",
          "model_name": "OutputModel",
          "model_module_version": "1.0.0",
          "state": {
            "_dom_classes": [],
            "_model_module": "@jupyter-widgets/output",
            "_model_module_version": "1.0.0",
            "_model_name": "OutputModel",
            "_view_count": null,
            "_view_module": "@jupyter-widgets/output",
            "_view_module_version": "1.0.0",
            "_view_name": "OutputView",
            "layout": "IPY_MODEL_af66ac341dd04fc08f420801325d11aa",
            "msg_id": "",
            "outputs": [
              {
                "output_type": "stream",
                "name": "stdout",
                "text": [
                  "\n",
                  "                                                                                les docs similaires au text entree sont\n"
                ]
              },
              {
                "output_type": "display_data",
                "data": {
                  "text/plain": "                                                    indexes     score\ncome motherfuck spit shit minut chillin bitchin...       12  0.956020\nyeah like bitch game comment like know squad li...     6656  0.377852\nfamiliar face rememb wrong particular place kno...    24924  0.314525\nlike like like like like like like like like li...     6247  0.312358\nshit look feel like feel like mothafuckin postm...     6514  0.293119\nlook good wavi movin like wan na babi nigga lit...    12078  0.291121\nyeah jeru damaja master microphon mayhem repres...    22537  0.290566\nclimb catacomb multi million rest remain dead d...    27729  0.282334\nyeah freestyl beat sound kind acapella right be...    12516  0.282047\nknow think look eye easi real good feel live li...     8000  0.279601",
                  "text/html": "\n  <div id=\"df-a69b4b08-686e-4b92-8558-873a4c9d2525\">\n    <div class=\"colab-df-container\">\n      <div>\n<style scoped>\n    .dataframe tbody tr th:only-of-type {\n        vertical-align: middle;\n    }\n\n    .dataframe tbody tr th {\n        vertical-align: top;\n    }\n\n    .dataframe thead th {\n        text-align: right;\n    }\n</style>\n<table border=\"1\" class=\"dataframe\">\n  <thead>\n    <tr style=\"text-align: right;\">\n      <th></th>\n      <th>indexes</th>\n      <th>score</th>\n    </tr>\n  </thead>\n  <tbody>\n    <tr>\n      <th>come motherfuck spit shit minut chillin bitchin stuff frankli dont fuck intim feel stuff feel like sit duck fuel caus there weak step fuckin bitch wan na test better caution extra warn mar yeah second horseman kill justifi like famili diss rest swaggin like rockstar limitless horrorcor bear mister death envi bitter play rough fool piss presenc perfect line spit sentenc bless excrement holi shit endin want fight victim vengeanc hook kill stone smother know flow super flow like fuckin know soul brother life like cover come punish know gold hustlah pirat mafakka throath cutter know amazin controllin time space ancient mind razor rhyme alien laser eye cold roll dice crush glacier size fadin live high bitch think say straight think say clearli evil evil necessari prayer virgin diss hospit cemetari leav vast specul quit rappin wack reput write everyday lack termin educ come motherfuck wan na packin chattin braggin demon rappin blastin smashin kickin jabbin peak game feel swaggin superrap flow littl tast embrac feelin like wast greatest creat dream replac fake reach overag</th>\n      <td>12</td>\n      <td>0.956020</td>\n    </tr>\n    <tr>\n      <th>yeah like bitch game comment like know squad like bitch game comment like know squad like type shit say want give right blunt check album know flip script caus fuck stunt type shit life check list know ballin logic humbl fuck dead like think know think know flow super flow control like whoa shit like whoa think know like whoa like like whoa like like like flexicut peopl want young flexicut peopl want like bitch game comment like know squad like bitch game comment like know squad like hold bring everybodi know bring fact wonder like caus right track know fuck live like woah live know motherfuck wan na mistak show go know intuit switch mission motherfuck bitch bitch like damn like hold minut readi hook book feel like indiana hotter havana come stamina bitch camera live moment shit right everybodi want everybodi talk chang shut caus know get flow flexicut peopl want young flexicut peopl want like bitch game comment like know squad yeah like bitch game comment like know know know know know know know hell ride hell ride hell ride hell ride know know know know know tie till hear talk shit fire tripl</th>\n      <td>6656</td>\n      <td>0.377852</td>\n    </tr>\n    <tr>\n      <th>familiar face rememb wrong particular place know sure caus know happen know moment time real know feel dejavu feel like feel like feel like feel like convers realis strang talk feel know come feel prearrang caus know hear feel moment time surreal caus know feel dejavu feel like feel like feel like feel like</th>\n      <td>24924</td>\n      <td>0.314525</td>\n    </tr>\n    <tr>\n      <th>like like like like like like like like like like like like like like like like like like like like like like like like like like like yeah light pain go hear song radio come fuck base shit readi readi terrifi hand steadi verifi camera readi weight earthquak deep sleep dive cold lake fuck bitch toe shake tell soulmat disguis emot face bullshit thank deal fuck hear suppos race hear sound lose spend day solitud dumb interview aw mood think logic get high jump moon look soul die right hospit peac possibl mind close come money leav hoe life fast babi slow open mind start forget know shit leav hurt good girl love hurt good fentanyl numb beauti ugli turn junki search know dream fuck littl nasti like wiggl cheek sweet shit week fore cash stand walk pass dream match gasolin night somebodi differ think halloween fuck feel work hard kill exist audio problem real hell trap wish death creep like splinter cell get high blow mind away word tryna think later world go better paper life fast babi slow open mind start forget know shit leav hurt good girl love hurt good hurt good hurt good</th>\n      <td>6247</td>\n      <td>0.312358</td>\n    </tr>\n    <tr>\n      <th>shit look feel like feel like mothafuckin postman send letter peopl knowledg like hold bitch platinum bitch rap bitch run game yeah lappin bitch know alright fuck look brother differ night think say know everybodi go like woah like woah like woah go like woah know know got ta like woah bitch like woah like like like woah like woah mothafucka livin like goddamn tell money thing thousand feet world right wing high hear bird sing world final happenin lappin luxuri nappin hous chillin homi bringin best road like quarter border london pari extraordinari fuck take ferri see itinerari home like woah tell feelin higher ceilin know illin probabl wonder bitch chillin grillin yeah like leav know bring right like woah like woah like woah go like woah know know got ta like woah bitch like woah like like like woah like woah high wonder away got ta hold know vibin guid say got ta know ridin long think time feel like addict minut invent limit infinit feel like infant womb tomb late room lookin lookin record wall hold like woah yeah fuckin paradis mothafucka</th>\n      <td>6514</td>\n      <td>0.293119</td>\n    </tr>\n    <tr>\n      <th>look good wavi movin like wan na babi nigga littl closer like think want booti know fore look like jiggl like wave hello girl sleep thing like pillow heat roast marshmallow get chees fellow jello juggl poor pocket struggl ham smuggl palm biggest hand danc like midget wrestlin pant packin actin like smack attract passion askin okay feel like pervert contact skirt damn like girl booti like stand movin like like like girl like like like girl like like like girl like like turn hand clap like biiitch stop playin real nigga deck bounc cheek like check church tith prais lord caus bless floor bounc like woah holi moley like know dumb word nigga bout bout know trick bodi rolli chick texa butt like preciou floss public stunt bring breakfast like girl like girl prefer number iphon freak play card right probabl bite booti meat okay hand hand got ta turd cutter strip club wishin owner come night fist cheer come self leavin know rent know kid need tip know krizz caus cute babi face grow woman bodi got ta tast holi good almighti good team need coach know mean choch see stream teas like like</th>\n      <td>12078</td>\n      <td>0.291121</td>\n    </tr>\n    <tr>\n      <th>yeah jeru damaja master microphon mayhem repres real hiphop know know fuck motherfuck spit dope know mean like respect hightech like nigga approach talk tough holler think rough fuck money knuckl shit bust funki rocknrol head want come wall crack fuck like humptey dumptey bust shot like block real hold fake thug cop dont need gun warrior drum cours forc like dumdum ahead dumb like send come wild track shut spot cat get hurt like convict lockdown real negro pound pound leav click like water break record play lowkey sneak like ninja cracker clan wan na nigga figur figur luck hood liquor tipsi like heineken mix henney burn wors kenwil mar burn good time rock mind pop root block dim true climb confess session head chicken head quap say prese caus like blessin lord stressin fuck percept motherfuck question state state hold weight drug bulletproof munk deflect slug hate bout date guess lame say like hail swing like kong stay cool calm blow like atom bomb blow shit like fuck hook hook like yayo brooklyn cat know fuck think dope shit crack crack</th>\n      <td>22537</td>\n      <td>0.290566</td>\n    </tr>\n    <tr>\n      <th>climb catacomb multi million rest remain dead dirt deal feel pain like chill push shit bill pretti fuck peopl like live suck wan na surviv like macguyv feel gangster feel tuck felt head hell like line stick thought constantli unknown wannab soul hop trend trend like wallabe like yeller grill tryna rockefel respect craft teller hard liquor cheesi bitch like wine cellar like count insert canin dine frankenstein monster find autonomi fuck like fact like fuck like fuck actin like like fuck like fact like fuck like fuck actin like like tri sleep forev pill beat med fake shit street cred fake concern felt shit burn tell peopl trust disgust return crash whip smash luckili whiplash fear death think final dismiss passeng seat fear repeat mile feel saniti deplet smile help cope trial know make lose grow thought plant head mean help reap drive reaper hell freez hide till deeper blizzard beauti winter thought buri soul leav enter fuck like fact like fuck like fuck actin like like</th>\n      <td>27729</td>\n      <td>0.282334</td>\n    </tr>\n    <tr>\n      <th>yeah freestyl beat sound kind acapella right better like joint good look bellow belt blow smoke versac bodi cold rock bold come twice nice nigga soft sugar spice know go flow time morn money flow go real babi know trill deal babi know what time come nigga tri everybodi actin like hard bodi like buff come long bodi know girl hotti thing know fresh like come caus fresh clean know bar mean twice bodi nice know write come freestyl bar wild know know stay crew shit sorri cough sick nigga fall stay rich stop worri hoe bitch street know start proud get loud track know blow loud know herd girl plan know know go say whoop time time funni dude rhyme know happen hard time know like grind time know go caus time shine time leav come caus know come like rememb know stop come know go go morn money flow feel good feel good misunderstand dang</th>\n      <td>12516</td>\n      <td>0.282047</td>\n    </tr>\n    <tr>\n      <th>know think look eye easi real good feel live like understand feel mind tell need need live like live like happi know want know want live like live live like</th>\n      <td>8000</td>\n      <td>0.279601</td>\n    </tr>\n  </tbody>\n</table>\n</div>\n      <button class=\"colab-df-convert\" onclick=\"convertToInteractive('df-a69b4b08-686e-4b92-8558-873a4c9d2525')\"\n              title=\"Convert this dataframe to an interactive table.\"\n              style=\"display:none;\">\n        \n  <svg xmlns=\"http://www.w3.org/2000/svg\" height=\"24px\"viewBox=\"0 0 24 24\"\n       width=\"24px\">\n    <path d=\"M0 0h24v24H0V0z\" fill=\"none\"/>\n    <path d=\"M18.56 5.44l.94 2.06.94-2.06 2.06-.94-2.06-.94-.94-2.06-.94 2.06-2.06.94zm-11 1L8.5 8.5l.94-2.06 2.06-.94-2.06-.94L8.5 2.5l-.94 2.06-2.06.94zm10 10l.94 2.06.94-2.06 2.06-.94-2.06-.94-.94-2.06-.94 2.06-2.06.94z\"/><path d=\"M17.41 7.96l-1.37-1.37c-.4-.4-.92-.59-1.43-.59-.52 0-1.04.2-1.43.59L10.3 9.45l-7.72 7.72c-.78.78-.78 2.05 0 2.83L4 21.41c.39.39.9.59 1.41.59.51 0 1.02-.2 1.41-.59l7.78-7.78 2.81-2.81c.8-.78.8-2.07 0-2.86zM5.41 20L4 18.59l7.72-7.72 1.47 1.35L5.41 20z\"/>\n  </svg>\n      </button>\n      \n  <style>\n    .colab-df-container {\n      display:flex;\n      flex-wrap:wrap;\n      gap: 12px;\n    }\n\n    .colab-df-convert {\n      background-color: #E8F0FE;\n      border: none;\n      border-radius: 50%;\n      cursor: pointer;\n      display: none;\n      fill: #1967D2;\n      height: 32px;\n      padding: 0 0 0 0;\n      width: 32px;\n    }\n\n    .colab-df-convert:hover {\n      background-color: #E2EBFA;\n      box-shadow: 0px 1px 2px rgba(60, 64, 67, 0.3), 0px 1px 3px 1px rgba(60, 64, 67, 0.15);\n      fill: #174EA6;\n    }\n\n    [theme=dark] .colab-df-convert {\n      background-color: #3B4455;\n      fill: #D2E3FC;\n    }\n\n    [theme=dark] .colab-df-convert:hover {\n      background-color: #434B5C;\n      box-shadow: 0px 1px 3px 1px rgba(0, 0, 0, 0.15);\n      filter: drop-shadow(0px 1px 2px rgba(0, 0, 0, 0.3));\n      fill: #FFFFFF;\n    }\n  </style>\n\n      <script>\n        const buttonEl =\n          document.querySelector('#df-a69b4b08-686e-4b92-8558-873a4c9d2525 button.colab-df-convert');\n        buttonEl.style.display =\n          google.colab.kernel.accessAllowed ? 'block' : 'none';\n\n        async function convertToInteractive(key) {\n          const element = document.querySelector('#df-a69b4b08-686e-4b92-8558-873a4c9d2525');\n          const dataTable =\n            await google.colab.kernel.invokeFunction('convertToInteractive',\n                                                     [key], {});\n          if (!dataTable) return;\n\n          const docLinkHtml = 'Like what you see? Visit the ' +\n            '<a target=\"_blank\" href=https://colab.research.google.com/notebooks/data_table.ipynb>data table notebook</a>'\n            + ' to learn more about interactive tables.';\n          element.innerHTML = '';\n          dataTable['output_type'] = 'display_data';\n          await google.colab.output.renderOutput(dataTable, element);\n          const docLink = document.createElement('div');\n          docLink.innerHTML = docLinkHtml;\n          element.appendChild(docLink);\n        }\n      </script>\n    </div>\n  </div>\n  "
                },
                "metadata": {}
              }
            ]
          }
        },
        "af66ac341dd04fc08f420801325d11aa": {
          "model_module": "@jupyter-widgets/base",
          "model_name": "LayoutModel",
          "model_module_version": "1.2.0",
          "state": {
            "_model_module": "@jupyter-widgets/base",
            "_model_module_version": "1.2.0",
            "_model_name": "LayoutModel",
            "_view_count": null,
            "_view_module": "@jupyter-widgets/base",
            "_view_module_version": "1.2.0",
            "_view_name": "LayoutView",
            "align_content": null,
            "align_items": null,
            "align_self": null,
            "border": null,
            "bottom": null,
            "display": null,
            "flex": null,
            "flex_flow": null,
            "grid_area": null,
            "grid_auto_columns": null,
            "grid_auto_flow": null,
            "grid_auto_rows": null,
            "grid_column": null,
            "grid_gap": null,
            "grid_row": null,
            "grid_template_areas": null,
            "grid_template_columns": null,
            "grid_template_rows": null,
            "height": null,
            "justify_content": null,
            "justify_items": null,
            "left": null,
            "margin": null,
            "max_height": null,
            "max_width": null,
            "min_height": null,
            "min_width": null,
            "object_fit": null,
            "object_position": null,
            "order": null,
            "overflow": null,
            "overflow_x": null,
            "overflow_y": null,
            "padding": null,
            "right": null,
            "top": null,
            "visibility": null,
            "width": null
          }
        }
      }
    }
  },
  "nbformat": 4,
  "nbformat_minor": 5
}